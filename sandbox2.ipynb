{
 "cells": [
  {
   "cell_type": "code",
   "execution_count": null,
   "id": "c86ed491",
   "metadata": {},
   "outputs": [],
   "source": [
    "import requests\n",
    "import json\n",
    "import pprint\n",
    "\n",
    "with open('city.list_JP.json', mode='r', encoding='utf-8') as f:\n",
    "    city_list = json.loads(f.read())\n",
    "\n",
    "city_list"
   ]
  },
  {
   "cell_type": "code",
   "execution_count": null,
   "id": "40c0318e",
   "metadata": {},
   "outputs": [],
   "source": [
    "# config.jsonによけたAPI_keyの取得\n",
    "with open('config.json', mode='r', encoding='utf-8') as f:\n",
    "    jsonfile = json.loads(f.read())\n",
    "API_key = jsonfile['API_key']"
   ]
  },
  {
   "cell_type": "code",
   "execution_count": null,
   "id": "016d5c6f",
   "metadata": {},
   "outputs": [],
   "source": [
    "# 明日からの作業：\n",
    "# https://openweathermap.org/forecast5#name5\n",
    "# ここを参考にして各地の天気データを取得する\n",
    "city_name = 'Tokyo'\n",
    "flg = False\n",
    "for list in city_list:\n",
    "    if city_name == list['name']:\n",
    "        print(\"ありました\")\n",
    "        flg = True\n",
    "if flg == False:\n",
    "    print(\"ありませんでした\")"
   ]
  },
  {
   "cell_type": "code",
   "execution_count": null,
   "id": "ec32bc06",
   "metadata": {},
   "outputs": [],
   "source": [
    "# 特定の市町村の緯度経度を入手したい\n",
    "city_name = 'Nagoya'\n",
    "flg = False\n",
    "for city in city_list:\n",
    "    if city_name == city['name']:\n",
    "        pprint.pprint(city)\n",
    "        lat  = city['coord']['lat']\n",
    "        lon  = city['coord']['lon']\n",
    "        flg = True\n",
    "if flg == False:\n",
    "    print(\"ありませんでした\")\n",
    "\n",
    "# せっかくだからfoliumでも遊ぶ\n",
    "# とりあえず地図の中央を可児市にしておく\n",
    "import folium\n",
    "\n",
    "m = folium.Map(location=(lat, lon),  zoom_start=5) #lat, lonの順番"
   ]
  },
  {
   "cell_type": "code",
   "execution_count": null,
   "id": "f52af0cc",
   "metadata": {},
   "outputs": [],
   "source": [
    "# 複数都市を指定するには配列入りオブジェクトとかにして、そこに都市名・coordを取得。\n",
    "# そのデータをfolium.Markerに渡していけばよさそう。\n",
    "\n",
    "folium.Marker(\n",
    "    location=[35.689499, 139.691711],\n",
    "    tooltip=\"Click me!\",\n",
    "    popup=\"Tokyo\",\n",
    "    icon=folium.Icon(color=\"red\"),\n",
    ").add_to(m)\n",
    "\n",
    "folium.Marker(\n",
    "    location=[35.950001, 137.266663],\n",
    "    tooltip=\"Click me!\",\n",
    "    popup=\"Osaka\",\n",
    "    icon=folium.Icon(color=\"green\"),\n",
    ").add_to(m)\n",
    "\n",
    "m"
   ]
  },
  {
   "cell_type": "code",
   "execution_count": null,
   "id": "642140c9",
   "metadata": {},
   "outputs": [],
   "source": [
    "city_name = 'Wakkanai'\n",
    "url = f'http://api.openweathermap.org/geo/1.0/direct?q={city_name}&limit=5&appid={API_key}'\n",
    "jsondata = requests.get(url).json()\n",
    "pprint.pprint(jsondata)"
   ]
  },
  {
   "cell_type": "code",
   "execution_count": null,
   "id": "791549c8",
   "metadata": {},
   "outputs": [],
   "source": [
    "jsondata[0]['local_names']['ja']"
   ]
  },
  {
   "cell_type": "code",
   "execution_count": null,
   "id": "6a0e3fe4",
   "metadata": {},
   "outputs": [],
   "source": [
    "# ...なんでBetter Commentsは一行目は色変えられないんですかね…\n",
    "#* 取得したい都市名：稚内、札幌、仙台、新潟、東京、金沢、長野、大阪、福山、高知、福岡、鹿児島、那覇\n",
    "#! 大阪市はid:1853909。1853908の方は岐阜県下呂市にある「小坂」という場所の模様\n",
    "selected_cities_name = ['Wakkanai', 'Sapporo', 'Sendai', 'Niigata', 'Tokyo', 'Kanazawa', 'Nagano', 'Osaka', 'Fukuyama', 'Kochi', 'Fukuoka', 'Kagoshima', 'Naha']\n",
    "# city_listより都市名だけを取得したリストを作成…city_namesに重複がないかの確認を軽量化するため\n",
    "city_list_nameonly = []\n",
    "for city in city_list:\n",
    "    city_list_nameonly.append(city['name'])\n",
    "city_list_nameonly"
   ]
  },
  {
   "cell_type": "code",
   "execution_count": null,
   "id": "659bc02c",
   "metadata": {},
   "outputs": [],
   "source": [
    "from collections import Counter\n",
    "name_counter = Counter(city_list_nameonly)\n",
    "print(name_counter)\n",
    "\n",
    "for name in selected_cities_name:\n",
    "    count = name_counter.get(name, 0)\n",
    "    if count == 0:\n",
    "        print(f'{name}: 見つからない')\n",
    "    elif count == 1:\n",
    "        print(f'{name}: 重複なし...OK!')\n",
    "    else:\n",
    "        print(f'{name}: 重複あり')"
   ]
  },
  {
   "cell_type": "code",
   "execution_count": null,
   "id": "16daa93f",
   "metadata": {},
   "outputs": [],
   "source": [
    "# 集計したい都市名とAPIから引っ張る緯度経度をくっつけるためにクラスを作る\n",
    "class City:\n",
    "    def __init__(self, name, lat, lon, name_ja):\n",
    "        self.name = name\n",
    "        self.lat = lat\n",
    "        self.lon = lon\n",
    "        self.name_ja = name_ja\n",
    "\n",
    "    # 確認用\n",
    "    def city_print(self):\n",
    "        print(f'name: {self.name}, lat: {self.lat}, lon: {self.lon}, name_ja: {self.name_ja}')\n",
    "\n",
    "    # dict型にしないとjsonファイルとして出力できないことが判明したため、メソッドを追加\n",
    "    def todict(self):\n",
    "        return {\n",
    "            'name': self.name,\n",
    "            'lat': self.lat,\n",
    "            'lon': self.lon,\n",
    "            'name_ja': self.name_ja,\n",
    "        }"
   ]
  },
  {
   "cell_type": "code",
   "execution_count": null,
   "id": "b4969def",
   "metadata": {},
   "outputs": [],
   "source": [
    "selected_cities_list = []\n",
    "\n",
    "for name in selected_cities_name:\n",
    "    # urlについて：{name}は都市名、その後ろの,JPは国名指定。これを付けないと海外の同名都市が引っかかってしまう\n",
    "    url = f'http://api.openweathermap.org/geo/1.0/direct?q={name},JP&limit=1&appid={API_key}'\n",
    "    jsondata = requests.get(url).json()\n",
    "    new_city = City(\n",
    "        name = name,\n",
    "        lat = jsondata[0]['lat'],\n",
    "        lon = jsondata[0]['lon'],\n",
    "        name_ja = jsondata[0]['local_names']['ja']\n",
    "    )\n",
    "    selected_cities_list.append(new_city)"
   ]
  },
  {
   "cell_type": "code",
   "execution_count": null,
   "id": "a7b9d4b0",
   "metadata": {},
   "outputs": [],
   "source": [
    "for i in selected_cities_list:\n",
    "    i.city_print()"
   ]
  },
  {
   "cell_type": "code",
   "execution_count": null,
   "id": "f16fede3",
   "metadata": {},
   "outputs": [],
   "source": [
    "with open(\"location.json\", mode=\"w\", encoding=\"utf-8\") as f:\n",
    "    json.dump([City.todict(city) for city in selected_cities_list], f, ensure_ascii=False, indent=2)"
   ]
  }
 ],
 "metadata": {
  "kernelspec": {
   "display_name": "venv",
   "language": "python",
   "name": "python3"
  },
  "language_info": {
   "codemirror_mode": {
    "name": "ipython",
    "version": 3
   },
   "file_extension": ".py",
   "mimetype": "text/x-python",
   "name": "python",
   "nbconvert_exporter": "python",
   "pygments_lexer": "ipython3",
   "version": "3.11.11"
  }
 },
 "nbformat": 4,
 "nbformat_minor": 5
}
