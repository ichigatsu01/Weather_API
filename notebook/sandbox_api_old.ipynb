{
 "cells": [
  {
   "cell_type": "code",
   "execution_count": null,
   "id": "80f1a41f",
   "metadata": {},
   "outputs": [],
   "source": [
    "# 都市名による組込APIリクエスト：\n",
    "# https://api.openweathermap.org/data/2.5/forecast?q={city name}&appid={API key}"
   ]
  },
  {
   "cell_type": "code",
   "execution_count": null,
   "id": "547b4b2a",
   "metadata": {},
   "outputs": [],
   "source": [
    "# config.jsonによけたAPI_keyの取得\n",
    "import json\n",
    "with open('config.json', mode='r', encoding='utf-8') as f:\n",
    "    jsonfile = json.loads(f.read())\n",
    "API_key = jsonfile['API_key']\n",
    "\n",
    "city_name = 'Kobe,JP'\n",
    "address = f'https://api.openweathermap.org/data/2.5/forecast?q={city_name}&appid={API_key}'\n",
    "print(address)"
   ]
  },
  {
   "cell_type": "code",
   "execution_count": null,
   "id": "3d08c324",
   "metadata": {},
   "outputs": [],
   "source": [
    "# どうやら組込ジオコーダ（都市ID、都市名、郵便番号入力による検索）は廃止されたらしい。\n",
    "# ってことは、都市ごとの緯度・経度を調べる必要がありそう。\n",
    "# と思ってたらジオコーディングAPIなるものがあって、そっちで調べなさいよってことらしい。\n",
    "# なんで二重構造みたいになったんだ・・・？？\n",
    "geocode = f'http://api.openweathermap.org/geo/1.0/direct?q={city_name}&limit=5&appid={API_key}'"
   ]
  },
  {
   "cell_type": "code",
   "execution_count": null,
   "id": "5a79ccb9",
   "metadata": {},
   "outputs": [],
   "source": [
    "# ここから本番…本番？？\n",
    "import requests\n",
    "import json\n",
    "import pprint\n",
    "city_name = 'Kobe,JP'\n",
    "url = f'http://api.openweathermap.org/geo/1.0/direct?q={city_name}&limit=5&appid={API_key}'\n",
    "jsondata = requests.get(url).json()\n",
    "pprint.pprint(jsondata)"
   ]
  },
  {
   "cell_type": "code",
   "execution_count": null,
   "id": "1efb88ac",
   "metadata": {},
   "outputs": [],
   "source": [
    "# データ上、kobeに近いものが複数ある。index=0のものがja='神戸市'となっているので[0]を使うのが正解っぽい。\n",
    "pprint.pprint(jsondata[0]['lat'])\n",
    "pprint.pprint(jsondata[0]['lon'])\n",
    "pprint.pprint(jsondata[1]['lat'])\n",
    "pprint.pprint(jsondata[1]['lon'])\n",
    "pprint.pprint(jsondata[2]['lat'])\n",
    "pprint.pprint(jsondata[2]['lon'])"
   ]
  },
  {
   "cell_type": "code",
   "execution_count": null,
   "id": "8458fe3c",
   "metadata": {},
   "outputs": [],
   "source": [
    "# city.list.jsonがあほみたいに重い(4M!)ので一旦日本だけ抽出する\n",
    "with open(\"city.list.json\", mode=\"r\", encoding=\"utf-8\") as f:\n",
    "    jsondata_city = json.loads(f.read())\n",
    "city_list_JP = []\n",
    "for data in jsondata_city:\n",
    "    if data['country'] == 'JP':\n",
    "        city_list_JP.append(data)\n",
    "city_list_JP"
   ]
  },
  {
   "cell_type": "code",
   "execution_count": null,
   "id": "e7093478",
   "metadata": {},
   "outputs": [],
   "source": [
    "with open(\"city.list_JP.json\", mode=\"w\", encoding=\"utf-8\") as f:\n",
    "    json.dump(city_list_JP, f, ensure_ascii=False, indent=2)"
   ]
  }
 ],
 "metadata": {
  "kernelspec": {
   "display_name": "venv",
   "language": "python",
   "name": "python3"
  },
  "language_info": {
   "codemirror_mode": {
    "name": "ipython",
    "version": 3
   },
   "file_extension": ".py",
   "mimetype": "text/x-python",
   "name": "python",
   "nbconvert_exporter": "python",
   "pygments_lexer": "ipython3",
   "version": "3.11.11"
  }
 },
 "nbformat": 4,
 "nbformat_minor": 5
}
