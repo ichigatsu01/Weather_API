{
 "cells": [
  {
   "cell_type": "code",
   "execution_count": 12,
   "id": "2ca1db9f",
   "metadata": {},
   "outputs": [
    {
     "name": "stdout",
     "output_type": "stream",
     "text": [
      "[{'lat': 45.4158108, 'lon': 141.6730309, 'name': 'Wakkanai', 'name_ja': '稚内市'},\n",
      " {'lat': 43.061936, 'lon': 141.3542924, 'name': 'Sapporo', 'name_ja': '札幌市'},\n",
      " {'lat': 38.2677554, 'lon': 140.8691498, 'name': 'Sendai', 'name_ja': '仙台市'},\n",
      " {'lat': 37.9160769, 'lon': 139.0365006, 'name': 'Niigata', 'name_ja': '新潟市'},\n",
      " {'lat': 35.6768601, 'lon': 139.7638947, 'name': 'Tokyo', 'name_ja': '東京都'},\n",
      " {'lat': 36.561627, 'lon': 136.6568822, 'name': 'Kanazawa', 'name_ja': '金沢市'},\n",
      " {'lat': 36.6485851, 'lon': 138.1947664, 'name': 'Nagano', 'name_ja': '長野市'},\n",
      " {'lat': 34.6937569, 'lon': 135.5014539, 'name': 'Osaka', 'name_ja': '大阪市'},\n",
      " {'lat': 34.4857039, 'lon': 133.3623097, 'name': 'Fukuyama', 'name_ja': '福山市'},\n",
      " {'lat': 33.5680384, 'lon': 133.5394221, 'name': 'Kochi', 'name_ja': '高知市'},\n",
      " {'lat': 33.5898988, 'lon': 130.4017509, 'name': 'Fukuoka', 'name_ja': '福岡市'},\n",
      " {'lat': 31.5841689, 'lon': 130.543387, 'name': 'Kagoshima', 'name_ja': '鹿児島市'},\n",
      " {'lat': 26.2122345, 'lon': 127.6791452, 'name': 'Naha', 'name_ja': '那覇市'}]\n"
     ]
    }
   ],
   "source": [
    "import json\n",
    "import pprint\n",
    "with open('location.json', mode='r', encoding='utf-8') as f:\n",
    "    selected_cities_lists = json.loads(f.read())\n",
    "pprint.pprint(selected_cities_lists)"
   ]
  },
  {
   "cell_type": "code",
   "execution_count": 13,
   "id": "89af7a6d",
   "metadata": {},
   "outputs": [
    {
     "data": {
      "text/html": [
       "<div style=\"width:100%;\"><div style=\"position:relative;width:100%;height:0;padding-bottom:60%;\"><span style=\"color:#565656\">Make this Notebook Trusted to load map: File -> Trust Notebook</span><iframe srcdoc=\"&lt;!DOCTYPE html&gt;\n",
       "&lt;html&gt;\n",
       "&lt;head&gt;\n",
       "    \n",
       "    &lt;meta http-equiv=&quot;content-type&quot; content=&quot;text/html; charset=UTF-8&quot; /&gt;\n",
       "    \n",
       "        &lt;script&gt;\n",
       "            L_NO_TOUCH = false;\n",
       "            L_DISABLE_3D = false;\n",
       "        &lt;/script&gt;\n",
       "    \n",
       "    &lt;style&gt;html, body {width: 100%;height: 100%;margin: 0;padding: 0;}&lt;/style&gt;\n",
       "    &lt;style&gt;#map {position:absolute;top:0;bottom:0;right:0;left:0;}&lt;/style&gt;\n",
       "    &lt;script src=&quot;https://cdn.jsdelivr.net/npm/leaflet@1.9.3/dist/leaflet.js&quot;&gt;&lt;/script&gt;\n",
       "    &lt;script src=&quot;https://code.jquery.com/jquery-3.7.1.min.js&quot;&gt;&lt;/script&gt;\n",
       "    &lt;script src=&quot;https://cdn.jsdelivr.net/npm/bootstrap@5.2.2/dist/js/bootstrap.bundle.min.js&quot;&gt;&lt;/script&gt;\n",
       "    &lt;script src=&quot;https://cdnjs.cloudflare.com/ajax/libs/Leaflet.awesome-markers/2.0.2/leaflet.awesome-markers.js&quot;&gt;&lt;/script&gt;\n",
       "    &lt;link rel=&quot;stylesheet&quot; href=&quot;https://cdn.jsdelivr.net/npm/leaflet@1.9.3/dist/leaflet.css&quot;/&gt;\n",
       "    &lt;link rel=&quot;stylesheet&quot; href=&quot;https://cdn.jsdelivr.net/npm/bootstrap@5.2.2/dist/css/bootstrap.min.css&quot;/&gt;\n",
       "    &lt;link rel=&quot;stylesheet&quot; href=&quot;https://netdna.bootstrapcdn.com/bootstrap/3.0.0/css/bootstrap-glyphicons.css&quot;/&gt;\n",
       "    &lt;link rel=&quot;stylesheet&quot; href=&quot;https://cdn.jsdelivr.net/npm/@fortawesome/fontawesome-free@6.2.0/css/all.min.css&quot;/&gt;\n",
       "    &lt;link rel=&quot;stylesheet&quot; href=&quot;https://cdnjs.cloudflare.com/ajax/libs/Leaflet.awesome-markers/2.0.2/leaflet.awesome-markers.css&quot;/&gt;\n",
       "    &lt;link rel=&quot;stylesheet&quot; href=&quot;https://cdn.jsdelivr.net/gh/python-visualization/folium/folium/templates/leaflet.awesome.rotate.min.css&quot;/&gt;\n",
       "    \n",
       "            &lt;meta name=&quot;viewport&quot; content=&quot;width=device-width,\n",
       "                initial-scale=1.0, maximum-scale=1.0, user-scalable=no&quot; /&gt;\n",
       "            &lt;style&gt;\n",
       "                #map_0727056b4add0b16d301d2ea24162b78 {\n",
       "                    position: relative;\n",
       "                    width: 100.0%;\n",
       "                    height: 100.0%;\n",
       "                    left: 0.0%;\n",
       "                    top: 0.0%;\n",
       "                }\n",
       "                .leaflet-container { font-size: 1rem; }\n",
       "            &lt;/style&gt;\n",
       "        \n",
       "&lt;/head&gt;\n",
       "&lt;body&gt;\n",
       "    \n",
       "    \n",
       "            &lt;div class=&quot;folium-map&quot; id=&quot;map_0727056b4add0b16d301d2ea24162b78&quot; &gt;&lt;/div&gt;\n",
       "        \n",
       "&lt;/body&gt;\n",
       "&lt;script&gt;\n",
       "    \n",
       "    \n",
       "            var map_0727056b4add0b16d301d2ea24162b78 = L.map(\n",
       "                &quot;map_0727056b4add0b16d301d2ea24162b78&quot;,\n",
       "                {\n",
       "                    center: [35.0, 135.0],\n",
       "                    crs: L.CRS.EPSG3857,\n",
       "                    ...{\n",
       "  &quot;zoom&quot;: 5,\n",
       "  &quot;zoomControl&quot;: true,\n",
       "  &quot;preferCanvas&quot;: false,\n",
       "}\n",
       "\n",
       "                }\n",
       "            );\n",
       "            L.control.scale().addTo(map_0727056b4add0b16d301d2ea24162b78);\n",
       "\n",
       "            \n",
       "\n",
       "        \n",
       "    \n",
       "            var tile_layer_9e0da24ff1263314c5acab4ce0e03348 = L.tileLayer(\n",
       "                &quot;https://tile.openstreetmap.org/{z}/{x}/{y}.png&quot;,\n",
       "                {\n",
       "  &quot;minZoom&quot;: 4,\n",
       "  &quot;maxZoom&quot;: 19,\n",
       "  &quot;maxNativeZoom&quot;: 19,\n",
       "  &quot;noWrap&quot;: false,\n",
       "  &quot;attribution&quot;: &quot;\\u0026copy; \\u003ca href=\\&quot;https://www.openstreetmap.org/copyright\\&quot;\\u003eOpenStreetMap\\u003c/a\\u003e contributors&quot;,\n",
       "  &quot;subdomains&quot;: &quot;abc&quot;,\n",
       "  &quot;detectRetina&quot;: false,\n",
       "  &quot;tms&quot;: false,\n",
       "  &quot;opacity&quot;: 1,\n",
       "}\n",
       "\n",
       "            );\n",
       "        \n",
       "    \n",
       "            tile_layer_9e0da24ff1263314c5acab4ce0e03348.addTo(map_0727056b4add0b16d301d2ea24162b78);\n",
       "        \n",
       "&lt;/script&gt;\n",
       "&lt;/html&gt;\" style=\"position:absolute;width:100%;height:100%;left:0;top:0;border:none !important;\" allowfullscreen webkitallowfullscreen mozallowfullscreen></iframe></div></div>"
      ],
      "text/plain": [
       "<folium.folium.Map at 0x1f82f3eaa10>"
      ]
     },
     "execution_count": 13,
     "metadata": {},
     "output_type": "execute_result"
    }
   ],
   "source": [
    "import folium\n",
    "\n",
    "m = folium.Map(location=(35, 135), zoom_start=5, min_zoom=4, control_scale=True)\n",
    "m"
   ]
  },
  {
   "cell_type": "code",
   "execution_count": null,
   "id": "da05b7da",
   "metadata": {},
   "outputs": [],
   "source": [
    "for list in selected_cities_lists:\n",
    "    folium.Marker(\n",
    "        location=[list.lat, list.lon],\n",
    "        tooltip=list.name_ja,\n",
    "        popup=\"ここに天気を表示したい\",\n",
    "        icon=folium.Icon(icon=\"cloud\"),\n",
    "    ).add_to(m)"
   ]
  }
 ],
 "metadata": {
  "kernelspec": {
   "display_name": "venv",
   "language": "python",
   "name": "python3"
  },
  "language_info": {
   "codemirror_mode": {
    "name": "ipython",
    "version": 3
   },
   "file_extension": ".py",
   "mimetype": "text/x-python",
   "name": "python",
   "nbconvert_exporter": "python",
   "pygments_lexer": "ipython3",
   "version": "3.11.11"
  }
 },
 "nbformat": 4,
 "nbformat_minor": 5
}
